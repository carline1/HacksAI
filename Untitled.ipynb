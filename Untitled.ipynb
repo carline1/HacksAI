{
 "cells": [
  {
   "cell_type": "code",
   "execution_count": 1,
   "metadata": {},
   "outputs": [],
   "source": [
    "import pandas as pd\n",
    "import cv2\n",
    "import matplotlib.pyplot as plt\n",
    "import sklearn as sk\n",
    "import datetime\n",
    "from sklearn.cluster import MeanShift\n",
    "import numpy as np\n",
    "import cleandata\n",
    "%matplotlib inline"
   ]
  },
  {
   "cell_type": "code",
   "execution_count": 2,
   "metadata": {},
   "outputs": [],
   "source": [
    "ships = []\n",
    "amount_ships = 15\n",
    "for i in range(9, amount_ships+1):\n",
    "    ships.append(i)"
   ]
  },
  {
   "cell_type": "code",
   "execution_count": 3,
   "metadata": {
    "scrolled": true
   },
   "outputs": [
    {
     "name": "stderr",
     "output_type": "stream",
     "text": [
      "C:\\Users\\gff10\\anaconda3\\lib\\site-packages\\IPython\\core\\interactiveshell.py:3338: DtypeWarning: Columns (5,6) have mixed types.Specify dtype option on import or set low_memory=False.\n",
      "  if (await self.run_code(code, result,  async_=asy)):\n",
      "C:\\Users\\gff10\\anaconda3\\lib\\site-packages\\pandas\\core\\indexing.py:670: SettingWithCopyWarning: \n",
      "A value is trying to be set on a copy of a slice from a DataFrame\n",
      "\n",
      "See the caveats in the documentation: https://pandas.pydata.org/pandas-docs/stable/user_guide/indexing.html#returning-a-view-versus-a-copy\n",
      "  iloc._setitem_with_indexer(indexer, value)\n"
     ]
    }
   ],
   "source": [
    "file = cleandata.read(r\"D:/Projects/Python_Projects/HacksAI/a.csv\", ships)"
   ]
  },
  {
   "cell_type": "code",
   "execution_count": 4,
   "metadata": {},
   "outputs": [
    {
     "data": {
      "text/html": [
       "<div>\n",
       "<style scoped>\n",
       "    .dataframe tbody tr th:only-of-type {\n",
       "        vertical-align: middle;\n",
       "    }\n",
       "\n",
       "    .dataframe tbody tr th {\n",
       "        vertical-align: top;\n",
       "    }\n",
       "\n",
       "    .dataframe thead th {\n",
       "        text-align: right;\n",
       "    }\n",
       "</style>\n",
       "<table border=\"1\" class=\"dataframe\">\n",
       "  <thead>\n",
       "    <tr style=\"text-align: right;\">\n",
       "      <th></th>\n",
       "      <th>ship</th>\n",
       "      <th>record</th>\n",
       "      <th>time</th>\n",
       "      <th>latitude</th>\n",
       "      <th>longitude</th>\n",
       "      <th>course</th>\n",
       "      <th>velocity</th>\n",
       "      <th>sure_tral</th>\n",
       "      <th>dist_table</th>\n",
       "      <th>dist_vel</th>\n",
       "      <th>is stay</th>\n",
       "    </tr>\n",
       "  </thead>\n",
       "  <tbody>\n",
       "    <tr>\n",
       "      <th>0</th>\n",
       "      <td>9</td>\n",
       "      <td>724.0</td>\n",
       "      <td>2021-09-26 01:02:46</td>\n",
       "      <td>0.000018</td>\n",
       "      <td>0.000046</td>\n",
       "      <td>259</td>\n",
       "      <td>0.0</td>\n",
       "      <td>0</td>\n",
       "      <td>0.0</td>\n",
       "      <td>0.0</td>\n",
       "      <td>0</td>\n",
       "    </tr>\n",
       "    <tr>\n",
       "      <th>1</th>\n",
       "      <td>9</td>\n",
       "      <td>724.0</td>\n",
       "      <td>2021-09-26 02:02:46</td>\n",
       "      <td>-0.000002</td>\n",
       "      <td>-0.000044</td>\n",
       "      <td>218</td>\n",
       "      <td>0.0</td>\n",
       "      <td>0</td>\n",
       "      <td>0.0</td>\n",
       "      <td>0.0</td>\n",
       "      <td>0</td>\n",
       "    </tr>\n",
       "    <tr>\n",
       "      <th>2</th>\n",
       "      <td>9</td>\n",
       "      <td>724.0</td>\n",
       "      <td>2021-09-26 03:02:46</td>\n",
       "      <td>0.000018</td>\n",
       "      <td>0.000016</td>\n",
       "      <td>353</td>\n",
       "      <td>0.0</td>\n",
       "      <td>0</td>\n",
       "      <td>0.0</td>\n",
       "      <td>0.0</td>\n",
       "      <td>0</td>\n",
       "    </tr>\n",
       "    <tr>\n",
       "      <th>3</th>\n",
       "      <td>9</td>\n",
       "      <td>724.0</td>\n",
       "      <td>2021-09-26 04:14:46</td>\n",
       "      <td>-0.000012</td>\n",
       "      <td>-0.000054</td>\n",
       "      <td>269</td>\n",
       "      <td>0.0</td>\n",
       "      <td>0</td>\n",
       "      <td>0.0</td>\n",
       "      <td>0.0</td>\n",
       "      <td>0</td>\n",
       "    </tr>\n",
       "    <tr>\n",
       "      <th>4</th>\n",
       "      <td>9</td>\n",
       "      <td>724.0</td>\n",
       "      <td>2021-09-26 05:02:45</td>\n",
       "      <td>-0.000012</td>\n",
       "      <td>-0.000034</td>\n",
       "      <td>225</td>\n",
       "      <td>0.0</td>\n",
       "      <td>0</td>\n",
       "      <td>0.0</td>\n",
       "      <td>0.0</td>\n",
       "      <td>0</td>\n",
       "    </tr>\n",
       "    <tr>\n",
       "      <th>...</th>\n",
       "      <td>...</td>\n",
       "      <td>...</td>\n",
       "      <td>...</td>\n",
       "      <td>...</td>\n",
       "      <td>...</td>\n",
       "      <td>...</td>\n",
       "      <td>...</td>\n",
       "      <td>...</td>\n",
       "      <td>...</td>\n",
       "      <td>...</td>\n",
       "      <td>...</td>\n",
       "    </tr>\n",
       "    <tr>\n",
       "      <th>70846</th>\n",
       "      <td>15</td>\n",
       "      <td>1347.0</td>\n",
       "      <td>2021-09-26 19:33:07</td>\n",
       "      <td>-0.069660</td>\n",
       "      <td>-0.383502</td>\n",
       "      <td>185</td>\n",
       "      <td>5.7</td>\n",
       "      <td>1</td>\n",
       "      <td>0.0</td>\n",
       "      <td>0.0</td>\n",
       "      <td>0</td>\n",
       "    </tr>\n",
       "    <tr>\n",
       "      <th>70847</th>\n",
       "      <td>15</td>\n",
       "      <td>1347.0</td>\n",
       "      <td>2021-09-26 20:14:46</td>\n",
       "      <td>-0.093200</td>\n",
       "      <td>-0.296112</td>\n",
       "      <td>353</td>\n",
       "      <td>4.4</td>\n",
       "      <td>1</td>\n",
       "      <td>0.0</td>\n",
       "      <td>0.0</td>\n",
       "      <td>0</td>\n",
       "    </tr>\n",
       "    <tr>\n",
       "      <th>70848</th>\n",
       "      <td>15</td>\n",
       "      <td>1347.0</td>\n",
       "      <td>2021-09-26 21:20:46</td>\n",
       "      <td>-0.089640</td>\n",
       "      <td>-0.305812</td>\n",
       "      <td>232</td>\n",
       "      <td>3.7</td>\n",
       "      <td>1</td>\n",
       "      <td>0.0</td>\n",
       "      <td>0.0</td>\n",
       "      <td>0</td>\n",
       "    </tr>\n",
       "    <tr>\n",
       "      <th>70849</th>\n",
       "      <td>15</td>\n",
       "      <td>1347.0</td>\n",
       "      <td>2021-09-26 22:36:47</td>\n",
       "      <td>-0.072400</td>\n",
       "      <td>-0.363502</td>\n",
       "      <td>319</td>\n",
       "      <td>4.0</td>\n",
       "      <td>1</td>\n",
       "      <td>0.0</td>\n",
       "      <td>0.0</td>\n",
       "      <td>0</td>\n",
       "    </tr>\n",
       "    <tr>\n",
       "      <th>70850</th>\n",
       "      <td>15</td>\n",
       "      <td>1347.0</td>\n",
       "      <td>2021-09-26 23:37:06</td>\n",
       "      <td>-0.029330</td>\n",
       "      <td>-0.218542</td>\n",
       "      <td>77</td>\n",
       "      <td>11.8</td>\n",
       "      <td>1</td>\n",
       "      <td>0.0</td>\n",
       "      <td>0.0</td>\n",
       "      <td>0</td>\n",
       "    </tr>\n",
       "  </tbody>\n",
       "</table>\n",
       "<p>70851 rows × 11 columns</p>\n",
       "</div>"
      ],
      "text/plain": [
       "      ship  record                time  latitude  longitude course  velocity  \\\n",
       "0        9   724.0 2021-09-26 01:02:46  0.000018   0.000046    259       0.0   \n",
       "1        9   724.0 2021-09-26 02:02:46 -0.000002  -0.000044    218       0.0   \n",
       "2        9   724.0 2021-09-26 03:02:46  0.000018   0.000016    353       0.0   \n",
       "3        9   724.0 2021-09-26 04:14:46 -0.000012  -0.000054    269       0.0   \n",
       "4        9   724.0 2021-09-26 05:02:45 -0.000012  -0.000034    225       0.0   \n",
       "...    ...     ...                 ...       ...        ...    ...       ...   \n",
       "70846   15  1347.0 2021-09-26 19:33:07 -0.069660  -0.383502    185       5.7   \n",
       "70847   15  1347.0 2021-09-26 20:14:46 -0.093200  -0.296112    353       4.4   \n",
       "70848   15  1347.0 2021-09-26 21:20:46 -0.089640  -0.305812    232       3.7   \n",
       "70849   15  1347.0 2021-09-26 22:36:47 -0.072400  -0.363502    319       4.0   \n",
       "70850   15  1347.0 2021-09-26 23:37:06 -0.029330  -0.218542     77      11.8   \n",
       "\n",
       "      sure_tral  dist_table  dist_vel  is stay  \n",
       "0             0         0.0       0.0        0  \n",
       "1             0         0.0       0.0        0  \n",
       "2             0         0.0       0.0        0  \n",
       "3             0         0.0       0.0        0  \n",
       "4             0         0.0       0.0        0  \n",
       "...         ...         ...       ...      ...  \n",
       "70846         1         0.0       0.0        0  \n",
       "70847         1         0.0       0.0        0  \n",
       "70848         1         0.0       0.0        0  \n",
       "70849         1         0.0       0.0        0  \n",
       "70850         1         0.0       0.0        0  \n",
       "\n",
       "[70851 rows x 11 columns]"
      ]
     },
     "execution_count": 4,
     "metadata": {},
     "output_type": "execute_result"
    }
   ],
   "source": [
    "file[file[\"record\"] == ]"
   ]
  },
  {
   "cell_type": "code",
   "execution_count": 7,
   "metadata": {},
   "outputs": [
    {
     "name": "stdout",
     "output_type": "stream",
     "text": [
      "nan\n",
      "nan\n",
      "nan\n",
      "nan\n",
      "nan\n",
      "nan\n",
      "nan\n",
      "nan\n",
      "777.0\n",
      "812.0\n",
      "nan\n",
      "820.0\n",
      "nan\n",
      "838.0\n",
      "1347.0\n",
      "nan\n",
      "nan\n",
      "nan\n",
      "nan\n",
      "nan\n",
      "nan\n",
      "nan\n",
      "nan\n",
      "nan\n",
      "nan\n",
      "nan\n",
      "nan\n",
      "nan\n",
      "nan\n"
     ]
    }
   ],
   "source": [
    "for i in range(1, 30):\n",
    "    print(file[file['ship'] == i]['record'].max())"
   ]
  },
  {
   "cell_type": "code",
   "execution_count": null,
   "metadata": {},
   "outputs": [],
   "source": [
    "def days_by_ship(ship_id):\n",
    "    one_ship = file[file[\"ship\"] == ship_id]\n",
    "    one_ship.drop_duplicates(subset=['record'],keep=\"first\", inplace=True)\n",
    "    ship_days = []\n",
    "    for i in one_ship[\"record\"]:\n",
    "        ship_days.append(i)\n",
    "    return ship_days"
   ]
  },
  {
   "cell_type": "code",
   "execution_count": null,
   "metadata": {},
   "outputs": [],
   "source": [
    "def dict_with_sorting_by_day_and_time(ship_id):\n",
    "    one_ship_copy = file[file[\"ship\"] == ship_id]\n",
    "#     one_ship.drop_duplicates(subset=['record'],keep=\"first\", inplace=True)\n",
    "    cat = one_ship_copy.sort_values('time')['record'].unique()\n",
    "    one_ship_copy['record'] = pd.Categorical(one_ship_copy['record'], ordered=True, categories=cat)\n",
    "\n",
    "    one_ship_copy = one_ship_copy.sort_values(['record', 'time'])\n",
    "    ship_days_times_dict = {}\n",
    "    for i in days_by_ship(ship_id):\n",
    "        ship_days_times_dict[i] = one_ship_copy[one_ship_copy[\"record\"] == i][\"time\"].to_list()\n",
    "    return ship_days_times_dict\n",
    "\n",
    "dict_with_sorting_by_day_and_time(1)"
   ]
  },
  {
   "cell_type": "code",
   "execution_count": null,
   "metadata": {},
   "outputs": [],
   "source": [
    "def show_path_by_day(day, ship):\n",
    "    one_ship = file[file[\"ship\"] == ship]\n",
    "    one_ship = one_ship[one_ship[\"record\"] == day]\n",
    "    one_ship[\"time\"] = p.to_datetime(one_ship[\"time\"])\n",
    "    one_ship.sort_values(by=\"time\")\n",
    "    \n",
    "    cords = [[], []]\n",
    "    x = 0\n",
    "    y = 0\n",
    "    for x1, y1 in zip(one_ship['latitude'], one_ship['longitude']):\n",
    "        x+=x1\n",
    "        y+=y1\n",
    "        cords[0].append(x)\n",
    "        cords[1].append(y)\n",
    "        \n",
    "    max_latitude = one_ship['latitude'].max()\n",
    "    max_longitude = one_ship['longitude'].max()\n",
    "    min_latitude = one_ship['latitude'].min()\n",
    "    min_longitude = one_ship['longitude'].min()\n",
    "    \n",
    "    max_value = max([abs(min_latitude), abs(min_longitude), abs(max_latitude), abs(max_longitude)])\n",
    "    \n",
    "    plt.plot(cords[0], cords[1], linestyle='dashed')\n",
    "    num = 20\n",
    "    plt.xlim(-num, num)\n",
    "    plt.ylim(-num, num)\n",
    "    plt.gca().set_aspect('equal', adjustable='box')\n",
    "    plt.show()"
   ]
  },
  {
   "cell_type": "code",
   "execution_count": null,
   "metadata": {},
   "outputs": [],
   "source": [
    "def show_record_by_day(day, ship):\n",
    "    one_ship = file[file[\"ship\"] == ship]\n",
    "    one_ship = one_ship[one_ship[\"record\"] == day]\n",
    "    one_ship[\"time\"] = pd.to_datetime(one_ship[\"time\"])\n",
    "    one_ship.sort_values(by=\"time\")\n",
    "    return one_ship"
   ]
  },
  {
   "cell_type": "code",
   "execution_count": null,
   "metadata": {},
   "outputs": [],
   "source": []
  },
  {
   "cell_type": "code",
   "execution_count": null,
   "metadata": {},
   "outputs": [],
   "source": [
    "def show_record_move(ship):\n",
    "    ship_records = p.DataFrame()\n",
    "    one_ship = file[file[\"ship\"] == ship]\n",
    "    for day_id in days_by_ship(ship):\n",
    "        day = one_ship[one_ship[\"record\"] == day_id]\n",
    "        if(record_not_non_and_not_zero(day)):\n",
    "            return day \n",
    "    return None"
   ]
  },
  {
   "cell_type": "code",
   "execution_count": null,
   "metadata": {},
   "outputs": [],
   "source": [
    "def record_not_non_and_not_zero(record):\n",
    "    for i in record[\"velocity\"]:\n",
    "        if (i == \"None\" or i == \"0.0\"):\n",
    "            return False\n",
    "    return True"
   ]
  },
  {
   "cell_type": "code",
   "execution_count": null,
   "metadata": {},
   "outputs": [],
   "source": [
    "def show_speed(ship_id):\n",
    "    ship  = file[file[\"ship\"] == ship_id]\n",
    "    ship['velocity'].loc[(ship['velocity'] == \"None\")] =\"0.0\"\n",
    "    ship[\"velocity\"] = pd.to_numeric(ship[\"velocity\"])\n",
    "    ship = ship.drop(\"record\", axis=1)\n",
    "    ship.plot.bar(y='velocity', rot=0)"
   ]
  },
  {
   "cell_type": "code",
   "execution_count": null,
   "metadata": {
    "scrolled": true
   },
   "outputs": [],
   "source": [
    "def speed_deffirence_with_tral(ship_id):\n",
    "    ship = file[file[\"ship\"] == ship_id]\n",
    "    ship['velocity'].loc[(ship['velocity'] == \"None\")] =\"0.0\"\n",
    "    ship[\"velocity\"] = pd.to_numeric(ship[\"velocity\"])\n",
    "    ship = ship.sort_values(\"velocity\")\n",
    "    ship = ship.drop(\"record\", axis=1)\n",
    "    \n",
    "    ship_with_tral = ship[ship[\"sure_tral\"] == 1]\n",
    "    ship_without_tral = ship[ship[\"sure_tral\"] == 0]\n",
    "    \n",
    "    return ship_with_tral[\"velocity\"]\n",
    "    \n",
    "#     ship_wih_tral.plot.bar(y='velocity', rot=0)\n",
    "#     ship_wihout_tral.plot.bar(y='velocity', rot=0)"
   ]
  },
  {
   "cell_type": "code",
   "execution_count": null,
   "metadata": {},
   "outputs": [],
   "source": [
    "def speed_deffirence_without_tral(ship_id):\n",
    "    ship = file[file[\"ship\"] == ship_id]\n",
    "    ship['velocity'][(ship['velocity'] == \"None\")] =\"0.0\"\n",
    "    ship[\"velocity\"] = pd.to_numeric(ship[\"velocity\"])\n",
    "    ship = ship.sort_values(\"velocity\")\n",
    "    ship = ship.drop(\"record\", axis=1)\n",
    "    \n",
    "    ship_without_tral = array_stay_not_tral_speeds(file)\n",
    "    \n",
    "    return ship_without_tral"
   ]
  },
  {
   "cell_type": "code",
   "execution_count": null,
   "metadata": {},
   "outputs": [],
   "source": [
    "def time_interval_with_tral(ship_id):\n",
    "    dict_days = max_interval(ship_id)\n",
    "    for i in dict_days.keys:\n",
    "        for j in dict_days[i]:\n",
    "            \n",
    "    "
   ]
  },
  {
   "cell_type": "code",
   "execution_count": null,
   "metadata": {},
   "outputs": [],
   "source": [
    "def max_interval(ship):\n",
    "    days = days_by_ship(ship)\n",
    "    sort_date = []\n",
    "    dict_days = []\n",
    "    info_sure_trul = []\n",
    "    for day in days:\n",
    "        day_record = show_record_by_day(day, ship)\n",
    "        record_diff = day_record[\"record\"].min()\n",
    "        \n",
    "        for i in range(day_record.first_valid_index(), day_record.first_valid_index() + len(day_record) - 1):\n",
    "            record = day_record[\"record\"][i] - record_diff\n",
    "            sort_date.append(str(day_record[\"time\"][i] + datetime.timedelta(days=int(record))).split(\" \")[1])\n",
    "            info_sure_trul.append(day_record[\"sure_trul\"][i])\n",
    "        dict_days = dict.fromkeys(record, [sort_date, info_sure_trul])\n",
    "        sort_date = []\n",
    "    \n",
    "    return dict_days"
   ]
  },
  {
   "cell_type": "code",
   "execution_count": null,
   "metadata": {},
   "outputs": [],
   "source": [
    "max_interval(2)"
   ]
  },
  {
   "cell_type": "code",
   "execution_count": 29,
   "metadata": {},
   "outputs": [],
   "source": [
    "def find_clusters(x):\n",
    "    X = np.reshape(x, (-1, 1))\n",
    "#     X = np.array(x,np.zeros(len(x)), dtype=np.int)\n",
    "#     bandwidth = estimate_bandwidth(X, quantile=0.1)\n",
    "    ms = MeanShift(bandwidth=None, bin_seeding=True)\n",
    "    ms.fit(X)\n",
    "    labels = ms.labels_\n",
    "    cluster_centers = ms.cluster_centers_\n",
    "\n",
    "    labels_unique = np.unique(labels)\n",
    "    n_clusters_ = len(labels_unique)\n",
    "\n",
    "    for k in range(n_clusters_):\n",
    "        my_members = labels == k\n",
    "    print (\"cluster {0}: {1}\".format(k, X[my_members, 0]))"
   ]
  },
  {
   "cell_type": "code",
   "execution_count": 48,
   "metadata": {
    "scrolled": false
   },
   "outputs": [],
   "source": [
    "def get_all_speed_with_tral():\n",
    "    all_speed_with_tral = []\n",
    "    for i in range(1, amount_ships):\n",
    "        all_speed_with_tral += speed_deffirence_with_tral(i).to_list()\n",
    "    \n",
    "    return(all_speed_with_tral)"
   ]
  },
  {
   "cell_type": "code",
   "execution_count": 49,
   "metadata": {},
   "outputs": [],
   "source": [
    "def get_all_speed_without_tral():\n",
    "    all_speed_without_tral = []\n",
    "    for i in range(1, amount_ships):\n",
    "        all_speed_without_tral += speed_deffirence_without_tral(i)\n",
    "    \n",
    "    return(all_speed_without_tral)"
   ]
  },
  {
   "cell_type": "code",
   "execution_count": null,
   "metadata": {},
   "outputs": [],
   "source": [
    "def get_all_time_interval():\n",
    "    all_time_interval = []\n",
    "    for i in range(1, amount_ships):\n",
    "        all_time_interval"
   ]
  },
  {
   "cell_type": "code",
   "execution_count": null,
   "metadata": {},
   "outputs": [],
   "source": []
  },
  {
   "cell_type": "code",
   "execution_count": 50,
   "metadata": {},
   "outputs": [],
   "source": [
    "def array_stay_not_tral_speeds(df):\n",
    "    return list(df['velocity'][(df['is stay'] == False) & (df['sure_tral'] == 0)])"
   ]
  },
  {
   "cell_type": "code",
   "execution_count": 51,
   "metadata": {},
   "outputs": [
    {
     "name": "stdout",
     "output_type": "stream",
     "text": [
      "[9.0, 4.0, 9.3, 2.5, 9.1, 2.8, 8.8, 1.3, 10.0, 9.0, 0.5, 0.0, 0.7, 0.2, 0.0, 0.0, 0.2, 0.3, 0.3, 8.9, 4.1, 10.0, 1.0, 9.9, 9.6, 0.5, 0.5, 9.0, 9.7, 9.5, 9.6, 10.0, 9.9, 9.0, 9.7, 10.0, 8.0, 0.4, 0.1, 0.0, 0.0, 0.0, 0.0, 0.0, 0.0, 0.2, 0.1, 0.0, 0.3, 0.0, 0.0, 0.2, 0.0, 0.1, 0.0, 0.1, 0.0, 0.1, 0.2, 0.1, 0.0, 0.0, 0.8, 0.2, 0.0, 0.0, 0.1, 0.0, 0.0, 0.2, 0.0, 8.0, 9.9, 9.0, 9.5, 8.0, 8.0, 7.7, 8.2, 8.0, 8.0, 9.0, 9.1, 8.9, 9.6, 9.9, 9.8, 9.0, 10.2, 9.3, 9.2, 9.2, 8.7, 7.0, 6.7, 7.0, 9.0, 0.1, 0.0, 0.1, 0.0, 0.0, 1.1, 6.0, 8.0, 8.3, 7.5, 7.9, 7.6, 8.0, 7.7, 7.0, 7.5, 7.8, 7.0, 8.0, 8.8, 8.6, 8.7, 8.4, 8.0, 8.4, 8.5, 8.6, 8.4, 7.0, 8.3, 6.9, 7.1, 7.2, 8.2, 7.0, 7.0, 6.5, 7.9, 8.0, 8.0, 7.6, 7.0, 7.0, 8.0, 3.7, 2.0, 2.7, 5.0, 7.0, 6.7, 0.0, 0.0, 0.0, 0.0, 0.0, 0.0, 0.0, 0.0, 0.0, 0.0, 0.0, 0.0, 0.0, 0.0, 0.0, 0.0, 0.0, 0.0, 0.0, 0.0, 0.0, 2.0, 1.6, 0.0, 0.0, 0.1, 0.0, 0.0, 5.7, 5.7, 10.7, 10.6, 10.4, 10.5]\n"
     ]
    }
   ],
   "source": [
    "velocities = array_stay_not_tral_speeds(file)\n",
    "\n",
    "print(velocities)"
   ]
  },
  {
   "cell_type": "code",
   "execution_count": 52,
   "metadata": {},
   "outputs": [
    {
     "name": "stderr",
     "output_type": "stream",
     "text": [
      "C:\\Users\\gff10\\anaconda3\\lib\\site-packages\\pandas\\core\\indexing.py:670: SettingWithCopyWarning: \n",
      "A value is trying to be set on a copy of a slice from a DataFrame\n",
      "\n",
      "See the caveats in the documentation: https://pandas.pydata.org/pandas-docs/stable/user_guide/indexing.html#returning-a-view-versus-a-copy\n",
      "  iloc._setitem_with_indexer(indexer, value)\n",
      "<ipython-input-26-49e2e4d28072>:3: SettingWithCopyWarning: \n",
      "A value is trying to be set on a copy of a slice from a DataFrame\n",
      "\n",
      "See the caveats in the documentation: https://pandas.pydata.org/pandas-docs/stable/user_guide/indexing.html#returning-a-view-versus-a-copy\n",
      "  ship['velocity'].loc[(ship['velocity'] == \"None\")] =\"0.0\"\n",
      "<ipython-input-26-49e2e4d28072>:4: SettingWithCopyWarning: \n",
      "A value is trying to be set on a copy of a slice from a DataFrame.\n",
      "Try using .loc[row_indexer,col_indexer] = value instead\n",
      "\n",
      "See the caveats in the documentation: https://pandas.pydata.org/pandas-docs/stable/user_guide/indexing.html#returning-a-view-versus-a-copy\n",
      "  ship[\"velocity\"] = pd.to_numeric(ship[\"velocity\"])\n"
     ]
    },
    {
     "name": "stdout",
     "output_type": "stream",
     "text": [
      "cluster 2: [61.6]\n"
     ]
    }
   ],
   "source": [
    "find_clusters(get_all_speed_with_tral())\n"
   ]
  },
  {
   "cell_type": "code",
   "execution_count": 53,
   "metadata": {},
   "outputs": [
    {
     "name": "stderr",
     "output_type": "stream",
     "text": [
      "<ipython-input-27-a1302fa6b78d>:4: SettingWithCopyWarning: \n",
      "A value is trying to be set on a copy of a slice from a DataFrame\n",
      "\n",
      "See the caveats in the documentation: https://pandas.pydata.org/pandas-docs/stable/user_guide/indexing.html#returning-a-view-versus-a-copy\n",
      "  ship['velocity'][(ship['velocity'] == \"None\")] =\"0.0\"\n",
      "C:\\Users\\gff10\\anaconda3\\lib\\site-packages\\pandas\\core\\series.py:1020: SettingWithCopyWarning: \n",
      "A value is trying to be set on a copy of a slice from a DataFrame\n",
      "\n",
      "See the caveats in the documentation: https://pandas.pydata.org/pandas-docs/stable/user_guide/indexing.html#returning-a-view-versus-a-copy\n",
      "  self._where(~key, value, inplace=True)\n",
      "<ipython-input-27-a1302fa6b78d>:6: SettingWithCopyWarning: \n",
      "A value is trying to be set on a copy of a slice from a DataFrame.\n",
      "Try using .loc[row_indexer,col_indexer] = value instead\n",
      "\n",
      "See the caveats in the documentation: https://pandas.pydata.org/pandas-docs/stable/user_guide/indexing.html#returning-a-view-versus-a-copy\n",
      "  ship[\"velocity\"] = pd.to_numeric(ship[\"velocity\"])\n"
     ]
    },
    {
     "name": "stdout",
     "output_type": "stream",
     "text": [
      "cluster 3: [4.  4.1 6.  6.5 3.7 5.  5.7 5.7 4.  4.1 6.  6.5 3.7 5.  5.7 5.7 4.  4.1\n",
      " 6.  6.5 3.7 5.  5.7 5.7 4.  4.1 6.  6.5 3.7 5.  5.7 5.7 4.  4.1 6.  6.5\n",
      " 3.7 5.  5.7 5.7 4.  4.1 6.  6.5 3.7 5.  5.7 5.7 4.  4.1 6.  6.5 3.7 5.\n",
      " 5.7 5.7 4.  4.1 6.  6.5 3.7 5.  5.7 5.7 4.  4.1 6.  6.5 3.7 5.  5.7 5.7\n",
      " 4.  4.1 6.  6.5 3.7 5.  5.7 5.7 4.  4.1 6.  6.5 3.7 5.  5.7 5.7 4.  4.1\n",
      " 6.  6.5 3.7 5.  5.7 5.7 4.  4.1 6.  6.5 3.7 5.  5.7 5.7 4.  4.1 6.  6.5\n",
      " 3.7 5.  5.7 5.7 4.  4.1 6.  6.5 3.7 5.  5.7 5.7 4.  4.1 6.  6.5 3.7 5.\n",
      " 5.7 5.7 4.  4.1 6.  6.5 3.7 5.  5.7 5.7 4.  4.1 6.  6.5 3.7 5.  5.7 5.7\n",
      " 4.  4.1 6.  6.5 3.7 5.  5.7 5.7 4.  4.1 6.  6.5 3.7 5.  5.7 5.7 4.  4.1\n",
      " 6.  6.5 3.7 5.  5.7 5.7 4.  4.1 6.  6.5 3.7 5.  5.7 5.7 4.  4.1 6.  6.5\n",
      " 3.7 5.  5.7 5.7 4.  4.1 6.  6.5 3.7 5.  5.7 5.7 4.  4.1 6.  6.5 3.7 5.\n",
      " 5.7 5.7 4.  4.1 6.  6.5 3.7 5.  5.7 5.7 4.  4.1 6.  6.5 3.7 5.  5.7 5.7\n",
      " 4.  4.1 6.  6.5 3.7 5.  5.7 5.7 4.  4.1 6.  6.5 3.7 5.  5.7 5.7 4.  4.1\n",
      " 6.  6.5 3.7 5.  5.7 5.7 4.  4.1 6.  6.5 3.7 5.  5.7 5.7 4.  4.1 6.  6.5\n",
      " 3.7 5.  5.7 5.7 4.  4.1 6.  6.5 3.7 5.  5.7 5.7 4.  4.1 6.  6.5 3.7 5.\n",
      " 5.7 5.7 4.  4.1 6.  6.5 3.7 5.  5.7 5.7 4.  4.1 6.  6.5 3.7 5.  5.7 5.7\n",
      " 4.  4.1 6.  6.5 3.7 5.  5.7 5.7 4.  4.1 6.  6.5 3.7 5.  5.7 5.7 4.  4.1\n",
      " 6.  6.5 3.7 5.  5.7 5.7 4.  4.1 6.  6.5 3.7 5.  5.7 5.7 4.  4.1 6.  6.5\n",
      " 3.7 5.  5.7 5.7 4.  4.1 6.  6.5 3.7 5.  5.7 5.7 4.  4.1 6.  6.5 3.7 5.\n",
      " 5.7 5.7 4.  4.1 6.  6.5 3.7 5.  5.7 5.7 4.  4.1 6.  6.5 3.7 5.  5.7 5.7\n",
      " 4.  4.1 6.  6.5 3.7 5.  5.7 5.7 4.  4.1 6.  6.5 3.7 5.  5.7 5.7 4.  4.1\n",
      " 6.  6.5 3.7 5.  5.7 5.7 4.  4.1 6.  6.5 3.7 5.  5.7 5.7 4.  4.1 6.  6.5\n",
      " 3.7 5.  5.7 5.7 4.  4.1 6.  6.5 3.7 5.  5.7 5.7 4.  4.1 6.  6.5 3.7 5.\n",
      " 5.7 5.7 4.  4.1 6.  6.5 3.7 5.  5.7 5.7 4.  4.1 6.  6.5 3.7 5.  5.7 5.7\n",
      " 4.  4.1 6.  6.5 3.7 5.  5.7 5.7 4.  4.1 6.  6.5 3.7 5.  5.7 5.7 4.  4.1\n",
      " 6.  6.5 3.7 5.  5.7 5.7 4.  4.1 6.  6.5 3.7 5.  5.7 5.7 4.  4.1 6.  6.5\n",
      " 3.7 5.  5.7 5.7]\n"
     ]
    }
   ],
   "source": [
    "find_clusters(get_all_speed_without_tral())"
   ]
  },
  {
   "cell_type": "code",
   "execution_count": null,
   "metadata": {},
   "outputs": [],
   "source": []
  },
  {
   "cell_type": "code",
   "execution_count": null,
   "metadata": {},
   "outputs": [],
   "source": []
  },
  {
   "cell_type": "code",
   "execution_count": null,
   "metadata": {},
   "outputs": [],
   "source": []
  }
 ],
 "metadata": {
  "kernelspec": {
   "display_name": "Python 3",
   "language": "python",
   "name": "python3"
  },
  "language_info": {
   "codemirror_mode": {
    "name": "ipython",
    "version": 3
   },
   "file_extension": ".py",
   "mimetype": "text/x-python",
   "name": "python",
   "nbconvert_exporter": "python",
   "pygments_lexer": "ipython3",
   "version": "3.8.5"
  }
 },
 "nbformat": 4,
 "nbformat_minor": 4
}
